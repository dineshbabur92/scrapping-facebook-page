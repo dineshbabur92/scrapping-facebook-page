{
 "cells": [
  {
   "cell_type": "code",
   "execution_count": 65,
   "metadata": {
    "collapsed": false
   },
   "outputs": [],
   "source": [
    "import urllib, json, pandas\n",
    "import datetime"
   ]
  },
  {
   "cell_type": "code",
   "execution_count": 89,
   "metadata": {
    "collapsed": false
   },
   "outputs": [],
   "source": [
    "access_token = \"myaccesstoken\"\n",
    "page_ids = [\"JeffreeStar\", \"hudabeauty\", \"itcosmetics\", \"PeachAndLily\", \"Ulta-Beauty-633386723515485\"]\n",
    "# page_ids = [\"elfcosmetics\"]"
   ]
  },
  {
   "cell_type": "code",
   "execution_count": null,
   "metadata": {
    "collapsed": false
   },
   "outputs": [],
   "source": [
    "for page_id in page_ids:\n",
    "    print(page_id)\n",
    "    total_posts_received = 0\n",
    "    top_250_posts = []\n",
    "    posts_url = (\n",
    "        \"https://graph.facebook.com/v2.12/\"\n",
    "        + page_id\n",
    "        + \"/posts?pretty=0&limit=10&fields=created_time%2Cmessage%2Cid%2Cstory%2Clikes.summary(true),comments.limit(10000)%2Cshares\"\n",
    "        + \"&access_token=\" + access_token\n",
    "    )\n",
    "    print(posts_url)\n",
    "    page_no = 1\n",
    "    while(total_posts_received < 250):\n",
    "        if(posts_url is not None):\n",
    "            print(\"fetching page no. \" + str(page_no))\n",
    "            response = urllib.request.urlopen(posts_url).read()\n",
    "            posts = json.loads(response.decode(\"utf-8\"))\n",
    "            total_posts_received += len(posts[\"data\"])\n",
    "#             print(posts.keys())\n",
    "            for post in posts[\"data\"]:\n",
    "                post[\"likes\"] = post[\"likes\"][\"summary\"][\"total_count\"] if \"likes\" in post.keys() else 0\n",
    "                post[\"shares\"] = post[\"shares\"][\"count\"] if \"shares\" in post.keys() else 0\n",
    "                post[\"comments\"] = post[\"comments\"][\"data\"] if \"comments\" in post.keys() else []\n",
    "            top_250_posts.extend(posts[\"data\"])\n",
    "            posts_url = posts[\"paging\"][\"next\"] if \"paging\" in posts.keys() and \"next\" in posts[\"paging\"].keys() else None\n",
    "            page_no += 1\n",
    "            \n",
    "        else:\n",
    "            print(\"posts url is none\")\n",
    "            break\n",
    "    print(\"no of posts: \" + str(len(top_250_posts)))\n",
    "    json.dump(top_250_posts, open(\"facebook_\" + page_id + \"___\" + datetime.datetime.now().strftime('%m_%d_%Y_%H_%M_%S') + \".json\", \"w\", encoding=\"utf-8\"))\n"
   ]
  },
  {
   "cell_type": "code",
   "execution_count": 53,
   "metadata": {
    "collapsed": false
   },
   "outputs": [],
   "source": []
  }
 ],
 "metadata": {
  "kernelspec": {
   "display_name": "Python 3",
   "language": "python",
   "name": "python3"
  },
  "language_info": {
   "codemirror_mode": {
    "name": "ipython",
    "version": 3
   },
   "file_extension": ".py",
   "mimetype": "text/x-python",
   "name": "python",
   "nbconvert_exporter": "python",
   "pygments_lexer": "ipython3",
   "version": "3.6.0"
  }
 },
 "nbformat": 4,
 "nbformat_minor": 1
}
